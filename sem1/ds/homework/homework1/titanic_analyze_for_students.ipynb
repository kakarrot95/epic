{
  "nbformat": 4,
  "nbformat_minor": 0,
  "metadata": {
    "colab": {
      "provenance": []
    },
    "kernelspec": {
      "name": "python3",
      "display_name": "Python 3"
    },
    "language_info": {
      "name": "python"
    }
  },
  "cells": [
    {
      "cell_type": "markdown",
      "source": [
        "\n",
        "\n",
        "Dear students, in this homework, you will analyze the Titanic dataset. Please read the tasks carefully and ask any questions you have on Discord. The homework consists of 10 tasks with a total of 10 points, but bonus points may be awarded for accuracy in task 10. Good luck and have fun!"
      ],
      "metadata": {
        "id": "d98nNwrkutHn"
      }
    },
    {
      "cell_type": "code",
      "execution_count": null,
      "metadata": {
        "id": "-hW8Jpt2fwf1"
      },
      "outputs": [],
      "source": [
        "import pandas as pd\n",
        "\n"
      ]
    },
    {
      "cell_type": "markdown",
      "source": [
        "##Task 1. Read the data and display top 5 rows(0.5 pt)"
      ],
      "metadata": {
        "id": "2SjYM6MpgJSH"
      }
    },
    {
      "cell_type": "code",
      "source": [],
      "metadata": {
        "id": "ism1cUWYk-N1"
      },
      "execution_count": null,
      "outputs": []
    },
    {
      "cell_type": "markdown",
      "source": [
        "##Task 2. Print dataframe's columns names and dimensionality(0.5 pt)"
      ],
      "metadata": {
        "id": "QPbzl7DbqRpp"
      }
    },
    {
      "cell_type": "code",
      "source": [],
      "metadata": {
        "id": "o2zPw5Lak-kP"
      },
      "execution_count": null,
      "outputs": []
    },
    {
      "cell_type": "markdown",
      "source": [
        "##Task 3. Calculate how many men and women are in the dataset (0.5 pt)\n"
      ],
      "metadata": {
        "id": "TBPVlJd1gcSs"
      }
    },
    {
      "cell_type": "code",
      "source": [],
      "metadata": {
        "id": "RbR2-xlwk-8C"
      },
      "execution_count": null,
      "outputs": []
    },
    {
      "cell_type": "markdown",
      "source": [
        "#Task 4. Calculate survival rate for men and women (0.5 pt)"
      ],
      "metadata": {
        "id": "70tg91GngxU5"
      }
    },
    {
      "cell_type": "code",
      "source": [],
      "metadata": {
        "id": "XDRFdWXPk_Tc"
      },
      "execution_count": null,
      "outputs": []
    },
    {
      "cell_type": "markdown",
      "source": [
        "#Task 5. Group the data by Pclass and and display statistics on Age and Fare (1 pt)"
      ],
      "metadata": {
        "id": "CFfvBxseiCND"
      }
    },
    {
      "cell_type": "code",
      "source": [],
      "metadata": {
        "id": "okhR3SU9lACa"
      },
      "execution_count": null,
      "outputs": []
    },
    {
      "cell_type": "markdown",
      "source": [
        "#Task 6. What is the most popular family name in the dataset (1 pt)"
      ],
      "metadata": {
        "id": "1iKAvDNKiuFV"
      }
    },
    {
      "cell_type": "code",
      "source": [],
      "metadata": {
        "id": "LeGmxqQwlAhU"
      },
      "execution_count": null,
      "outputs": []
    },
    {
      "cell_type": "markdown",
      "source": [
        "##Task 7. What is the mean and std for all columns for survived male passengers (1 pt)"
      ],
      "metadata": {
        "id": "S8WQv-zij1sU"
      }
    },
    {
      "cell_type": "code",
      "source": [],
      "metadata": {
        "id": "Gz7QQo9AlBL7"
      },
      "execution_count": null,
      "outputs": []
    },
    {
      "cell_type": "markdown",
      "source": [
        "#Task 8. Display rows from 40th to 60th (in numeration from zero) (1 pt)"
      ],
      "metadata": {
        "id": "j6P-ivT2k12p"
      }
    },
    {
      "cell_type": "code",
      "source": [],
      "metadata": {
        "id": "IGXepZZglB3U"
      },
      "execution_count": null,
      "outputs": []
    },
    {
      "cell_type": "markdown",
      "source": [
        "##Task 9. Sort the table by Fare in descending order (1 pt)"
      ],
      "metadata": {
        "id": "Hl8tCRWiplx7"
      }
    },
    {
      "cell_type": "code",
      "source": [],
      "metadata": {
        "id": "yFvqrEGplCR-"
      },
      "execution_count": null,
      "outputs": []
    },
    {
      "cell_type": "markdown",
      "source": [
        "##Task 10 Implement simple model to predict whether the person have survived according to knowledge you got from data analysis. Then calculate accuracy of your predictions on the dataset. Try to maximize accuracy (a student with maximum accuracy will recieve additional points). For example, the simplest model may look like (df[\"predict_survived\"] = df[\"Sex\"] == \"male\") (3 pt)"
      ],
      "metadata": {
        "id": "yLVxtEUXm127"
      }
    },
    {
      "cell_type": "code",
      "source": [],
      "metadata": {
        "id": "YsAI1BltlCtV"
      },
      "execution_count": null,
      "outputs": []
    }
  ]
}