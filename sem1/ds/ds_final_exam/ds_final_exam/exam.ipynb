{
 "cells": [
  {
   "cell_type": "markdown",
   "id": "7e3fc075",
   "metadata": {},
   "source": [
    "# Data Science Final Exam\n",
    "\n",
    "## Dear Students,<br><br>Welcome to your final exam in data science. Remember that the true essence of data science lies not only in obtaining results but in extracting meaningful insights.<br><br>In this examination we encourage you to focus not just on the output your code generates but on the story it tells. Sometimes, peculiar outcomes can act as beacons, signaling potential issues in your code or data. Rather than dismissing them, consider these anomalies as opportunities to refine your analysis and enhance your problem-solving skills.<br><br>As you progress through the tasks, think of your comments as a roadmap for others to follow your analytical journey. Clearly articulate your intentions before executing code, detail the steps you took, and, most importantly, provide a comprehensive interpretation of your results. A well-documented analysis not only showcases your technical proficiency but also your ability to think critically about the data at hand.<br><br>Remember, data science is not merely about crunching numbers; it's about crafting narratives that guide decision-making. Each line of code you write and every graph you create contributes to a broader story. Make sure your commentary reflects this understanding, and don't hesitate to acknowledge any challenges or uncertainties you encounter along the way.<br><br>Best of luck!"
   ]
  },
  {
   "cell_type": "markdown",
   "id": "011c18ff",
   "metadata": {},
   "source": [
    "## Task 1. Hypothesis Testing (2 points)\n",
    "\n",
    "\n",
    "**The data for this task is in `task_1.csv`**\n",
    "\n",
    "#### Data task_1.csv:\n",
    "* index - enumeration\n",
    "* women_1 - weights of women observed (1st group)\n",
    "* women_2 - weights of women observed (2nd group)\n",
    "* men - weights of men observed"
   ]
  },
  {
   "cell_type": "markdown",
   "id": "28d14896",
   "metadata": {},
   "source": [
    "### 1.1 Check normality assumption for women_1 and women_2. "
   ]
  },
  {
   "cell_type": "code",
   "execution_count": null,
   "id": "1a0f4b2b",
   "metadata": {},
   "outputs": [],
   "source": []
  },
  {
   "cell_type": "markdown",
   "id": "b9158d1e",
   "metadata": {},
   "source": [
    "\n",
    "### 1.2 Check one of the following hypotheses (based on where the normality assumption is met) using t-test with appropriate paramenters:\n",
    "\n",
    "**1.**\n",
    "* HO - women_1 have bigger weight than men\n",
    "* H1 - they are not\n",
    "\n",
    "**2.**\n",
    "* HO - women_2 have the same weight as men\n",
    "* H1 - they are not"
   ]
  },
  {
   "cell_type": "code",
   "execution_count": null,
   "id": "ebbd48bd",
   "metadata": {},
   "outputs": [],
   "source": []
  },
  {
   "cell_type": "markdown",
   "id": "d40ac7ff",
   "metadata": {},
   "source": [
    "## Task 2. ANOVA (2 points)\n",
    "\n",
    "Calcium is an essential mineral that regulates the heart, is important for blood clotting and for building healthy bones. The National Osteoporosis Foundation recommends a daily calcium intake of 1000-1200 mg/day for adult men and women. While calcium is contained in some foods, most adults do not get enough calcium in their diets and take supplements. Unfortunately some of the supplements have side effects such as gastric distress, making them difficult for some patients to take on a regular basis.  \n",
    "\n",
    " A study is designed to test whether there is a difference in mean daily calcium intake in adults with normal bone density, adults with osteopenia (a low bone density which may lead to osteoporosis) and adults with osteoporosis. Adults 60 years of age with normal bone density, osteopenia and osteoporosis are selected at random from hospital records and invited to participate in the study. Each participant's daily calcium intake is measured based on reported food intake and supplements. The data are shown below. \n",
    "\n",
    "Key steps to follow:\n",
    "\n",
    "* Checking assumptions for ANOVA\n",
    "* Performing Anova\n",
    "* Interpret the results (in markdown or as a comment)"
   ]
  },
  {
   "cell_type": "code",
   "execution_count": 13,
   "id": "1e5ee491",
   "metadata": {},
   "outputs": [],
   "source": [
    "anova_raw = {\n",
    "    'Normal Bone Density': [1200, 1000, 980, 900, 750, 800],\n",
    "    'Osteopenia': [1000, 1100, 700, 800, 500, 700],\n",
    "    'Osteoporosis': [890, 650, 1100, 900, 400, 350]\n",
    "}"
   ]
  },
  {
   "cell_type": "markdown",
   "id": "c833ed85",
   "metadata": {},
   "source": [
    "### 2.1 Check assumptions for normality using Shapiro-Wilk test"
   ]
  },
  {
   "cell_type": "code",
   "execution_count": null,
   "id": "7111e5df",
   "metadata": {},
   "outputs": [],
   "source": []
  },
  {
   "cell_type": "markdown",
   "id": "b1fa327f",
   "metadata": {},
   "source": [
    "### 2.2 Сheck the assumption of homogeneity of variances"
   ]
  },
  {
   "cell_type": "code",
   "execution_count": null,
   "id": "985bb8f2",
   "metadata": {},
   "outputs": [],
   "source": []
  },
  {
   "cell_type": "markdown",
   "id": "8de83a32",
   "metadata": {},
   "source": [
    "### 2.3 Perform ANOVA and interpret the results"
   ]
  },
  {
   "cell_type": "code",
   "execution_count": null,
   "id": "1af97c7e",
   "metadata": {},
   "outputs": [],
   "source": []
  },
  {
   "cell_type": "markdown",
   "id": "1d8b1be7",
   "metadata": {},
   "source": [
    "## Task 3. Linear Regression\n",
    "\n",
    "Given the Dataset in `task_3.csv` make some necessary transformations and train regression model to predict flight tickets' price.\n",
    "\n",
    "### Dataset Description\n",
    "\n",
    "The objective of the study is to analyse the flight booking dataset obtained from “Ease My Trip” website and to conduct various statistical hypothesis tests in order to get meaningful information from it. The 'Linear Regression' statistical algorithm would be used to train the dataset and predict a continuous target variable. 'Easemytrip' is an internet platform for booking flight tickets, and hence a platform that potential passengers use to buy tickets. A thorough study of the data will aid in the discovery of valuable insights that will be of enormous value to passengers.\n",
    "\n",
    "**Dataset**\n",
    "Dataset contains information about flight booking options from the website Easemytrip for flight travel between India's top 6 metro cities. There are 300261 datapoints and 11 features in the cleaned dataset.\n",
    "\n",
    "**Features**\n",
    "\n",
    "The various features of the cleaned dataset are explained below:\n",
    "\n",
    "1) Airline: The name of the airline company is stored in the airline column. It is a categorical feature having 6 different airlines.\n",
    "2) Flight: Flight stores information regarding the plane's flight code. It is a categorical feature.\n",
    "3) Source City: City from which the flight takes off. It is a categorical feature having 6 unique cities.\n",
    "4) Departure Time: This is a derived categorical feature obtained created by grouping time periods into bins. It stores information about the departure time and have 6 unique time labels.\n",
    "5) Stops: A categorical feature with 3 distinct values that stores the number of stops between the source and destination cities.\n",
    "6) Arrival Time: This is a derived categorical feature created by grouping time intervals into bins. It has six distinct time labels and keeps information about the arrival time.\n",
    "7) Destination City: City where the flight will land. It is a categorical feature having 6 unique cities.\n",
    "8) Class: A categorical feature that contains information on seat class; it has two distinct values: Business and Economy.\n",
    "9) Duration: A continuous feature that displays the overall amount of time it takes to travel between cities in hours.\n",
    "10) Days Left: This is a derived characteristic that is calculated by subtracting the trip date by the booking date.\n",
    "11) Price: Target variable stores information of the ticket price.\n",
    "\n",
    "*Dataset is already cleaned*\n"
   ]
  },
  {
   "cell_type": "markdown",
   "id": "e6004638",
   "metadata": {},
   "source": [
    "### 3.1 Data Transformation:\n",
    "\n",
    "- Transform categorical variables to numeric form. Decide on the most appropriate method, such as one-hot encoding, label encoding, or any other relevant technique.\n",
    "- Provide justifications for the chosen transformation method and discuss any variables that might be excluded."
   ]
  },
  {
   "cell_type": "code",
   "execution_count": null,
   "id": "5896573c",
   "metadata": {},
   "outputs": [],
   "source": []
  },
  {
   "cell_type": "markdown",
   "id": "f06d3eff",
   "metadata": {},
   "source": [
    "### 3.2 Visualization of Variables:\n",
    "\n",
    "- Visualize the correlation between variables. Use techniques like correlation matrices or heatmap to represent relationships between different features.\n",
    "- Discuss any interesting observations or patterns identified during visualization."
   ]
  },
  {
   "cell_type": "code",
   "execution_count": null,
   "id": "a1b1211e",
   "metadata": {},
   "outputs": [],
   "source": []
  },
  {
   "cell_type": "markdown",
   "id": "b5d062da",
   "metadata": {},
   "source": [
    "### 3.3 Optional Graphs:\n",
    "\n",
    "- Create additional graphs that you find helpful and insightful for understanding the dataset.\n",
    "- Examples of optional graphs include distribution plots, box plots, or any other visualization that might provide useful insights. "
   ]
  },
  {
   "cell_type": "code",
   "execution_count": null,
   "id": "aafb186c",
   "metadata": {},
   "outputs": [],
   "source": []
  },
  {
   "cell_type": "markdown",
   "id": "60969853",
   "metadata": {},
   "source": [
    "### 3.4 Linear Regression:\n",
    "- Perform linear regression to predict ticket prices based on relevant independent variables. Choose variables that are likely to influence the ticket price.\n",
    "- Evaluate the results using R squared (coefficient of determination) to assess the goodness of fit of the regression model.\n",
    "- Provide interpretation of the coefficients and discuss the overall performance of the model."
   ]
  },
  {
   "cell_type": "code",
   "execution_count": null,
   "id": "b3bf6e8d",
   "metadata": {},
   "outputs": [],
   "source": []
  },
  {
   "cell_type": "markdown",
   "id": "c9184802",
   "metadata": {},
   "source": [
    "## Task 4. Classification (3 points)\n",
    "\n",
    "Given the Dataset in `task_4.csv` make some necessary transformations and train the model to classify the obesity type.\n",
    "\n",
    "### Dataset Description\n",
    "\n",
    "The data contains 17 attributes and 2111 records, the records are labeled with the **class variable NObesity (Obesity Level), that allows classification of the data** using the values of Insufficient Weight, Normal Weight, Overweight Level I, Overweight Level II, Obesity Type I, Obesity Type II and Obesity Type III.\n",
    "\n",
    "The attributes related with eating habits are: Frequent consumption of high caloric food (FAVC), Frequency of consumption of vegetables (FCVC), Number of main meals (NCP), Consumption of food between meals (CAEC), Consumption of water daily (CH20), and Consumption of alcohol (CALC). The attributes related with the physical condition are: Calories consumption monitoring (SCC), Physical activity frequency (FAF), Time using technology devices (TUE), Transportation used (MTRANS), other variables obtained were: Gender, Age, Height and Weight.\n",
    "\n",
    "**Questions of the survey used for initial recollection of information**\n",
    "\n",
    "Question (Possible Answers)\n",
    "\n",
    "* What is your gender?\t•Female •Male\n",
    "* What is your age?\tNumeric value\n",
    "* What is your height?\tNumeric value in meters\n",
    "* What is your weight?\tNumeric value in kilograms\n",
    "* Has a family member suffered or suffers from overweight?\t•Yes •No\n",
    "* Do you eat high caloric food frequently? •Yes •No\n",
    "* Do you usually eat vegetables in your meals?\t•Never •Sometimes •Always\n",
    "* How many main meals do you have daily?\t•Between 1 y 2 •Three •More than three\n",
    "* Do you eat any food between meals? •No •Sometimes •Frequently •Always\n",
    "* Do you smoke? •Yes •No\n",
    "* How much water do you drink daily? •Less than a liter •Between 1 and 2 L •More than 2 L\n",
    "* Do you monitor the calories you eat daily? •Yes •No\n",
    "* How often do you have physical activity? •I do not have •1 or 2 days •2 or 4 days •4 or 5 days\n",
    "* How much time do you use technological devices such as cell phone, videogames, television, computer and others? •0–2 hours •3–5 hours •More than 5 hours\n",
    "* How often do you drink alcohol? •I do not drink •Sometimes •Frequently •Always\n",
    "* Which transportation do you usually use? •Automobile •Motorbike •Bike •Public Transportation •Walking\n"
   ]
  },
  {
   "cell_type": "markdown",
   "id": "6199a9fc",
   "metadata": {},
   "source": [
    "### 4.1 Data Preparation:\n",
    "\n",
    "- Identify and handle missing values, outliers, or any other data quality issues.\n",
    "- Convert categorical variables into a suitable format for modeling.\n",
    "- Discuss any decisions made during the data cleaning process."
   ]
  },
  {
   "cell_type": "code",
   "execution_count": null,
   "id": "084a46c0",
   "metadata": {},
   "outputs": [],
   "source": []
  },
  {
   "cell_type": "markdown",
   "id": "91247823",
   "metadata": {},
   "source": [
    "### 4.2 Training and Hyperparameter Tuning::\n",
    "\n",
    "- Select a classification model for predicting 'NObeyesdad'\n",
    "- Split the dataset into training and testing sets.\n",
    "- Train the chosen model on the training set."
   ]
  },
  {
   "cell_type": "code",
   "execution_count": null,
   "id": "718fbd8c",
   "metadata": {},
   "outputs": [],
   "source": []
  },
  {
   "cell_type": "markdown",
   "id": "70aebcbc",
   "metadata": {},
   "source": [
    "### 4.3 Model Evaluation:\n",
    "\n",
    "- Evaluate the trained model on the testing set.\n",
    "- Choose appropriate evaluation metrics for a classification task (e.g., accuracy, precision, recall, F1-score)."
   ]
  },
  {
   "cell_type": "code",
   "execution_count": null,
   "id": "e77dfaed",
   "metadata": {},
   "outputs": [],
   "source": []
  }
 ],
 "metadata": {
  "kernelspec": {
   "display_name": "Python 3 (ipykernel)",
   "language": "python",
   "name": "python3"
  },
  "language_info": {
   "codemirror_mode": {
    "name": "ipython",
    "version": 3
   },
   "file_extension": ".py",
   "mimetype": "text/x-python",
   "name": "python",
   "nbconvert_exporter": "python",
   "pygments_lexer": "ipython3",
   "version": "3.9.6"
  }
 },
 "nbformat": 4,
 "nbformat_minor": 5
}
